{
 "cells": [
  {
   "cell_type": "code",
   "execution_count": 132,
   "metadata": {},
   "outputs": [],
   "source": [
    "import os\n",
    "from io import StringIO, BytesIO\n",
    "import IPython.display\n",
    "import numpy as np\n",
    "import PIL.Image\n",
    "from PIL import Image\n",
    "from scipy.stats import truncnorm\n",
    "import tensorflow as tf\n",
    "import tensorflow_hub as hub\n",
    "import matplotlib.pyplot as plt\n",
    "import imghdr"
   ]
  },
  {
   "cell_type": "code",
   "execution_count": 133,
   "metadata": {},
   "outputs": [],
   "source": [
    "dirpath = r\"\\Users\\brian\\Documents\\dsc160-final-dsc160-group18\\data\\albums\"\n",
    "thepath = r\"\\Users\\brian\\Documents\\dsc160-final-dsc160-group18\\data\\512albums\""
   ]
  },
  {
   "cell_type": "code",
   "execution_count": 134,
   "metadata": {},
   "outputs": [],
   "source": [
    "def make_thumbnail(filename, imagepath, newpath):\n",
    "    #print(imagepath + \"\\\\\" + filename)\n",
    "    temp = imagepath + \"\\\\\" + filename\n",
    "    img = Image.open(temp)\n",
    "    size = 512,512\n",
    "    img.thumbnail(size)\n",
    "    img.save(newpath + \"\\\\\" + filename)"
   ]
  },
  {
   "cell_type": "code",
   "execution_count": 135,
   "metadata": {},
   "outputs": [],
   "source": [
    "directory = imagepath = os.fsencode(r\"C:\\\\Users\\brian\\Documents\\dsc160-final-dsc160-group18\\data\\albums\")\n",
    "for file in os.listdir(directory):\n",
    "    make_thumbnail(file.decode('utf-8'), dirpath, thepath)"
   ]
  },
  {
   "cell_type": "code",
   "execution_count": null,
   "metadata": {},
   "outputs": [],
   "source": []
  },
  {
   "cell_type": "code",
   "execution_count": null,
   "metadata": {},
   "outputs": [],
   "source": []
  },
  {
   "cell_type": "code",
   "execution_count": null,
   "metadata": {},
   "outputs": [],
   "source": []
  }
 ],
 "metadata": {
  "kernelspec": {
   "display_name": "Python 3",
   "language": "python",
   "name": "python3"
  },
  "language_info": {
   "codemirror_mode": {
    "name": "ipython",
    "version": 3
   },
   "file_extension": ".py",
   "mimetype": "text/x-python",
   "name": "python",
   "nbconvert_exporter": "python",
   "pygments_lexer": "ipython3",
   "version": "3.7.6"
  }
 },
 "nbformat": 4,
 "nbformat_minor": 4
}
