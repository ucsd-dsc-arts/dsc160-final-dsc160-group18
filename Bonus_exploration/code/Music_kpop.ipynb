{
 "cells": [
  {
   "cell_type": "code",
   "execution_count": 6,
   "metadata": {},
   "outputs": [
    {
     "name": "stderr",
     "output_type": "stream",
     "text": [
      "Using TensorFlow backend.\n"
     ]
    }
   ],
   "source": [
    "import mido\n",
    "from mido import MidiFile, MidiTrack, Message\n",
    "from keras.layers import LSTM, Dense, Activation, Dropout, Flatten\n",
    "from keras.preprocessing import sequence\n",
    "from keras.models import Sequential\n",
    "from keras.optimizers import Adam\n",
    "from keras.callbacks import ModelCheckpoint\n",
    "from sklearn.preprocessing import MinMaxScaler\n",
    "import numpy as np"
   ]
  },
  {
   "cell_type": "code",
   "execution_count": 11,
   "metadata": {},
   "outputs": [],
   "source": [
    "import os\n",
    "\n",
    "filename = '../data/kpop_midi_samples'\n",
    "filenames = os.listdir(filename)\n",
    "filenames = [i for i in filenames if i[-3:] == 'mid']\n",
    "kpop_files  = [MidiFile(filename+'/'+i) for i in filenames] \n"
   ]
  },
  {
   "cell_type": "code",
   "execution_count": 15,
   "metadata": {},
   "outputs": [],
   "source": [
    "lst_note = []\n",
    "for song in kpop_files:\n",
    "    for note in song: \n",
    "        if not note.is_meta and note.type == 'note_on' and note.channel == 0 :\n",
    "            nb = note.bytes()\n",
    "            lst_note.append(nb[1])"
   ]
  },
  {
   "cell_type": "code",
   "execution_count": 18,
   "metadata": {},
   "outputs": [],
   "source": [
    "scaler = MinMaxScaler(feature_range=(0,1))\n",
    "scaler.fit(np.array(lst_note).reshape(-1,1))\n",
    "lst_notes = list(scaler.transform(np.array(lst_note).reshape(-1,1)))"
   ]
  },
  {
   "cell_type": "code",
   "execution_count": 19,
   "metadata": {},
   "outputs": [],
   "source": [
    "# LSTM layers \n",
    "notes = [list(note) for note in lst_notes]\n",
    "\n",
    "x = []\n",
    "y = []\n",
    "# batch note #\n",
    "prev = 30\n",
    "for i in range(len(notes)- prev):\n",
    "    x.append(lst_notes[i:i+ prev])\n",
    "    y.append(lst_notes[i+ prev])\n",
    "\n",
    "x_test = y[-300:]\n",
    "x = x[:-300]\n",
    "y = y[:-300]"
   ]
  },
  {
   "cell_type": "code",
   "execution_count": 24,
   "metadata": {},
   "outputs": [
    {
     "name": "stdout",
     "output_type": "stream",
     "text": [
      "Epoch 1/5\n",
      "24112/24112 [==============================] - 82s 3ms/step - loss: 0.0244\n",
      "Epoch 2/5\n",
      "24112/24112 [==============================] - 75s 3ms/step - loss: 0.0200\n",
      "Epoch 3/5\n",
      "24112/24112 [==============================] - 76s 3ms/step - loss: 0.0186\n",
      "Epoch 4/5\n",
      "24112/24112 [==============================] - 77s 3ms/step - loss: 0.0182\n",
      "Epoch 5/5\n",
      "24112/24112 [==============================] - 78s 3ms/step - loss: 0.0179\n",
      "\n",
      "Epoch 00005: saving model to ./Checkpoints/checkpoint_model_05.hdf5\n"
     ]
    },
    {
     "data": {
      "text/plain": [
       "<keras.callbacks.callbacks.History at 0x13a506d30>"
      ]
     },
     "execution_count": 24,
     "metadata": {},
     "output_type": "execute_result"
    }
   ],
   "source": [
    "#train model \n",
    "model = Sequential()\n",
    "model.add(LSTM(256, input_shape=(n_prev, 1), return_sequences=True))\n",
    "model.add(Dropout(0.6))\n",
    "model.add(LSTM(128, input_shape=(n_prev, 1), return_sequences=True))\n",
    "model.add(Dropout(0.6))\n",
    "model.add(LSTM(64, input_shape=(n_prev, 1), return_sequences=False))\n",
    "model.add(Dropout(0.6))\n",
    "model.add(Dense(1))\n",
    "model.add(Activation('linear'))\n",
    "optimizer = Adam(lr=0.001)\n",
    "model.compile(loss='mse', optimizer=optimizer)\n",
    "filepath=\"./Checkpoints/checkpoint_model_{epoch:02d}.hdf5\"\n",
    "model_save_callback = ModelCheckpoint(filepath, monitor='val_acc', \n",
    "                                      verbose=1, save_best_only=False, \n",
    "                                      mode='auto', period=5)\n",
    "\n",
    "model.fit(np.array(X), np.array(y), 32, 5, verbose=1, callbacks=[model_save_callback])"
   ]
  },
  {
   "cell_type": "code",
   "execution_count": 25,
   "metadata": {},
   "outputs": [],
   "source": [
    "prediction = model.predict(np.array(X_test))\n",
    "prediction = np.squeeze(prediction)\n",
    "prediction = np.squeeze(scaler.inverse_transform(prediction.reshape(-1,1)))\n",
    "prediction = [int(i) for i in prediction]"
   ]
  },
  {
   "cell_type": "code",
   "execution_count": 26,
   "metadata": {},
   "outputs": [],
   "source": [
    "#make new file\n",
    "\n",
    "mid = MidiFile()\n",
    "track = MidiTrack()\n",
    "i = 0\n",
    "for note in prediction:\n",
    "    msg = Message.from_bytes(bytes[0:3])\n",
    "    note = np.asarray([147, note, 67])\n",
    "    bytes = note.astype(int)\n",
    "    msg = Message.from_bytes(bytes[0:3])\n",
    "    i += 1\n",
    "    msg.time = i\n",
    "    track.append(msg)\n",
    "mid.tracks.append(track)\n",
    "mid.save('kpop_piano_generation.mid')"
   ]
  }
 ],
 "metadata": {
  "kernelspec": {
   "display_name": "Python 3",
   "language": "python",
   "name": "python3"
  },
  "language_info": {
   "codemirror_mode": {
    "name": "ipython",
    "version": 3
   },
   "file_extension": ".py",
   "mimetype": "text/x-python",
   "name": "python",
   "nbconvert_exporter": "python",
   "pygments_lexer": "ipython3",
   "version": "3.7.2"
  }
 },
 "nbformat": 4,
 "nbformat_minor": 2
}
